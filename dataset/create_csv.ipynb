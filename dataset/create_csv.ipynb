{
 "cells": [
  {
   "cell_type": "code",
   "execution_count": 1,
   "metadata": {},
   "outputs": [
    {
     "ename": "SyntaxError",
     "evalue": "invalid syntax (<ipython-input-1-49b11488af29>, line 48)",
     "output_type": "error",
     "traceback": [
      "\u001b[0;36m  File \u001b[0;32m\"<ipython-input-1-49b11488af29>\"\u001b[0;36m, line \u001b[0;32m48\u001b[0m\n\u001b[0;31m    print(n_train/n, n_test/n)\u001b[0m\n\u001b[0m    ^\u001b[0m\n\u001b[0;31mSyntaxError\u001b[0m\u001b[0;31m:\u001b[0m invalid syntax\n"
     ]
    }
   ],
   "source": [
    "import os    \n",
    "import csv\n",
    "import random\n",
    "\n",
    "all_files = os.listdir(\"labels/\")\n",
    "\n",
    "def count_lines(f):\n",
    "    line_count = 0\n",
    "    for line in f:\n",
    "        if line != \"\\n\":\n",
    "            line_count += 1\n",
    "    return line_count\n",
    "\n",
    "max_people = 5\n",
    "p = 0.8\n",
    "\n",
    "bad_images = 0\n",
    "\n",
    "n_train = 0\n",
    "n_test = 0\n",
    "n = 0\n",
    "\n",
    "with open(\"test.csv\", \"w\") as test, open(\"train.csv\", \"w\") as train:\n",
    "    writer_test = csv.writer(test)\n",
    "    writer_train = csv.writer(train)\n",
    "    for file in all_files:\n",
    "        if file.endswith(\".txt\"):\n",
    "            file_path = f\"labels/{file}\"\n",
    "            txt = open(file_path, \"r\")\n",
    "            line_count = 0\n",
    "            for line in txt:\n",
    "                if line != \"\\n\":\n",
    "                    line_count += 1\n",
    "            if line_count > max_people:\n",
    "                bad_images += 1\n",
    "            else:\n",
    "                if random.random() < p:\n",
    "                    writer_train.writerow([file])\n",
    "                    n_train += 1\n",
    "                    n += 1\n",
    "                else:\n",
    "                    writer_test.writerow([file])\n",
    "                    n_test += 1\n",
    "                    n += 1\n",
    "            txt.close()\n",
    "            \n",
    "print(bad_images, n)\n",
    "print(n_train/n, n_test/n)"
   ]
  }
 ],
 "metadata": {
  "kernelspec": {
   "display_name": "Python 3",
   "language": "python",
   "name": "python3"
  },
  "language_info": {
   "codemirror_mode": {
    "name": "ipython",
    "version": 3
   },
   "file_extension": ".py",
   "mimetype": "text/x-python",
   "name": "python",
   "nbconvert_exporter": "python",
   "pygments_lexer": "ipython3",
   "version": "3.8.5"
  }
 },
 "nbformat": 4,
 "nbformat_minor": 4
}
